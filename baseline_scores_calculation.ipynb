{
 "cells": [
  {
   "cell_type": "code",
   "execution_count": 2,
   "metadata": {},
   "outputs": [],
   "source": [
    "import xgboost as xgb\n",
    "from xgboost import XGBClassifier, plot_tree\n",
    "import numpy as np\n",
    "import pandas as pd\n",
    "import datetime as dt\n",
    "import matplotlib.pyplot as plt\n",
    "import seaborn as sns\n",
    "from sklearn import metrics, preprocessing\n",
    "from sklearn.metrics import accuracy_score,precision_score,recall_score,f1_score,confusion_matrix,roc_auc_score,roc_curve, precision_recall_curve, average_precision_score, auc\n",
    "from sklearn.model_selection import cross_val_score, train_test_split, GridSearchCV\n",
    "from sklearn.ensemble import RandomForestClassifier\n",
    "from sklearn.tree import export_graphviz\n",
    "import datetime as dt\n",
    "from sklearn.linear_model import LogisticRegression"
   ]
  },
  {
   "cell_type": "code",
   "execution_count": 3,
   "metadata": {},
   "outputs": [],
   "source": [
    "path = \"example_dataset.csv\"\n",
    "df_all = pd.read_csv(path, index_col=0)\n",
    "adhere_score = df_all\n",
    "gwtg_hf_score = df_all"
   ]
  },
  {
   "cell_type": "markdown",
   "metadata": {},
   "source": [
    "## ADHERE score"
   ]
  },
  {
   "cell_type": "code",
   "execution_count": null,
   "metadata": {},
   "outputs": [],
   "source": [
    "countlist=['_0','_1', '_2', '_3']\n",
    "count=0\n",
    "\n",
    "for col in countlist:\n",
    "    adhere_score['adhere_score'+ col]=(0.0212*adhere_score['BUN'+col]\n",
    "                                       -0.0192*adhere_score['Systolic_bp'+col]\n",
    "                                      +0.0131*adhere_score['Heart_Rate'+col]\n",
    "                                      +0.0288*adhere_score['PatientAge']\n",
    "                                      -4.72)\n",
    "    print(adhere_score.groupby('ExpiredStatus')['adhere_score'+col].value_counts())\n"
   ]
  },
  {
   "cell_type": "code",
   "execution_count": null,
   "metadata": {},
   "outputs": [],
   "source": [
    "#prob = odds / (1 + odds)\n",
    "\n",
    "odds=np.exp(adhere_score['adhere_score_0'])\n",
    "prob=odds/(1+odds)\n",
    "\n",
    "adhere_score['adhere_score_0']=prob\n",
    "\n",
    "final_score=adhere_score[['HospitalAdmissionTime','ef_low','ExpiredStatus','ef_category','adhere_score_0']]\n",
    "final_score['adhere_score_0']=final_score['adhere_score_0'].fillna(0)\n",
    "final_score.to_csv(\"adhere_score.csv\", index=False)"
   ]
  },
  {
   "cell_type": "markdown",
   "metadata": {},
   "source": [
    "## GWTG_HF score"
   ]
  },
  {
   "cell_type": "code",
   "execution_count": null,
   "metadata": {},
   "outputs": [],
   "source": [
    "gwtg_hf_score['COPD_Score']=np.where(gwtg_hf_score['COPD']==1,2,\n",
    "                                    np.where(gwtg_hf_score['COPD']==0,0,np.NaN))\n",
    "gwtg_hf_score['COPD_Score'].value_counts()\n",
    "\n",
    "print('White = 0, LatinX=1, Black = 2, Asian = 3, Unknown = 4, Indigenous = 5')\n",
    "\n",
    "gwtg_hf_score['Black_Race_Score']=np.where(gwtg_hf_score['Race']==2,0,3)\n",
    "gwtg_hf_score['Black_Race_Score'].value_counts()"
   ]
  },
  {
   "cell_type": "code",
   "execution_count": null,
   "metadata": {},
   "outputs": [],
   "source": [
    "gwtg_hf_score['Age_Score']=np.where(gwtg_hf_score['PatientAge']<=19,0,\n",
    "                             np.where(gwtg_hf_score['PatientAge']<=29,3,\n",
    "                                     np.where(gwtg_hf_score['PatientAge']<=39,6,\n",
    "                                             np.where(gwtg_hf_score['PatientAge']<=49,8,\n",
    "                                                     np.where(gwtg_hf_score['PatientAge']<=59,11,\n",
    "                                                             np.where(gwtg_hf_score['PatientAge']<=69,14,\n",
    "                                                                     np.where(gwtg_hf_score['PatientAge']<=79,17,\n",
    "                                                                             np.where(gwtg_hf_score['PatientAge']<=89,19,\n",
    "                                                                                     np.where(gwtg_hf_score['PatientAge']<=99,22,\n",
    "                                                                                             np.where(gwtg_hf_score['PatientAge']<=109,25,\n",
    "                                                                                                     np.where(gwtg_hf_score['PatientAge']>=110,28,np.NaN)))))))))))\n",
    "\n",
    "gwtg_hf_score['Age_Score'].value_counts()"
   ]
  },
  {
   "cell_type": "code",
   "execution_count": null,
   "metadata": {},
   "outputs": [],
   "source": [
    "gwtg_hf_score['Heart_Rate_Score']=np.where(gwtg_hf_score['Heart_Rate_0']<=79,0,\n",
    "                                          np.where(gwtg_hf_score['Heart_Rate_0']<=84,1,\n",
    "                                                  np.where(gwtg_hf_score['Heart_Rate_0']<=89,3,\n",
    "                                                          np.where(gwtg_hf_score['Heart_Rate_0']<=94,4,\n",
    "                                                                  np.where(gwtg_hf_score['Heart_Rate_0']<=99,5,\n",
    "                                                                          np.where(gwtg_hf_score['Heart_Rate_0']<=104,6,\n",
    "                                                                                  np.where(gwtg_hf_score['Heart_Rate_0']>=105,8,np.NaN)))))))\n",
    "\n",
    "gwtg_hf_score['Heart_Rate_Score'].value_counts()"
   ]
  },
  {
   "cell_type": "code",
   "execution_count": null,
   "metadata": {},
   "outputs": [],
   "source": [
    "gwtg_hf_score['Sodium_Score']=np.where(gwtg_hf_score['Sodium_0']<=130,4,\n",
    "                                      np.where(gwtg_hf_score['Sodium_0']<=133,3,\n",
    "                                              np.where(gwtg_hf_score['Sodium_0']<=136,2,\n",
    "                                                      np.where(gwtg_hf_score['Sodium_0']<=138,1,\n",
    "                                                              np.where(gwtg_hf_score['Sodium_0']>=139,0,0)))))\n",
    "gwtg_hf_score['Sodium_Score'].value_counts()"
   ]
  },
  {
   "cell_type": "code",
   "execution_count": null,
   "metadata": {},
   "outputs": [],
   "source": [
    "gwtg_hf_score['BUN_Score']=np.where(gwtg_hf_score['BUN_0']<=9,0,\n",
    "                                   np.where(gwtg_hf_score['BUN_0']<=19,2,\n",
    "                                           np.where(gwtg_hf_score['BUN_0']<=29,4,\n",
    "                                                   np.where(gwtg_hf_score['BUN_0']<=39,6,\n",
    "                                                           np.where(gwtg_hf_score['BUN_0']<=49,8,\n",
    "                                                                   np.where(gwtg_hf_score['BUN_0']<=59,9,\n",
    "                                                                           np.where(gwtg_hf_score['BUN_0']<=69,11,\n",
    "                                                                                   np.where(gwtg_hf_score['BUN_0']<=79,13,\n",
    "                                                                                           np.where(gwtg_hf_score['BUN_0']<=89,15,\n",
    "                                                                                                   np.where(gwtg_hf_score['BUN_0']<=99,17,\n",
    "                                                                                                           np.where(gwtg_hf_score['BUN_0']<=109,19,\n",
    "                                                                                                                   np.where(gwtg_hf_score['BUN_0']<=119,21,\n",
    "                                                                                                                           np.where(gwtg_hf_score['BUN_0']<=129,23,\n",
    "                                                                                                                                   np.where(gwtg_hf_score['BUN_0']<=139,25,\n",
    "                                                                                                                                           np.where(gwtg_hf_score['BUN_0']<=149,27,\n",
    "                                                                                                                                                   np.where(gwtg_hf_score['BUN_0']>=150,28,0))))))))))))))))\n",
    "gwtg_hf_score['BUN_Score'].value_counts()"
   ]
  },
  {
   "cell_type": "code",
   "execution_count": null,
   "metadata": {},
   "outputs": [],
   "source": [
    "gwtg_hf_score['Systolic_BP_Score']=np.where((gwtg_hf_score['Systolic_bp_0']>=50)&(gwtg_hf_score['Systolic_bp_0']<=59),28,\n",
    "                                           np.where(gwtg_hf_score['Systolic_bp_0']<=69,26,\n",
    "                                                   np.where(gwtg_hf_score['Systolic_bp_0']<=79,24,\n",
    "                                                           np.where(gwtg_hf_score['Systolic_bp_0']<=89,23,\n",
    "                                                                   np.where(gwtg_hf_score['Systolic_bp_0']<=99,21,\n",
    "                                                                           np.where(gwtg_hf_score['Systolic_bp_0']<=109,19,\n",
    "                                                                                   np.where(gwtg_hf_score['Systolic_bp_0']<=119,17,\n",
    "                                                                                           np.where(gwtg_hf_score['Systolic_bp_0']<=129,15,\n",
    "                                                                                                   np.where(gwtg_hf_score['Systolic_bp_0']<=139,13,\n",
    "                                                                                                           np.where(gwtg_hf_score['Systolic_bp_0']<=149,11,\n",
    "                                                                                                                   np.where(gwtg_hf_score['Systolic_bp_0']<=159,9,\n",
    "                                                                                                                           np.where(gwtg_hf_score['Systolic_bp_0']<=169,8,\n",
    "                                                                                                                                   np.where(gwtg_hf_score['Systolic_bp_0']<=179,6,\n",
    "                                                                                                                                           np.where(gwtg_hf_score['Systolic_bp_0']<=189,4,\n",
    "                                                                                                                                                    np.where(gwtg_hf_score['Systolic_bp_0']<=199,2,\n",
    "                                                                                                                                                    \tnp.where(gwtg_hf_score['Systolic_bp_0']>=200,0,0))))))))))))))))\n",
    "\n",
    "gwtg_hf_score['Systolic_BP_Score'].value_counts()"
   ]
  },
  {
   "cell_type": "code",
   "execution_count": null,
   "metadata": {},
   "outputs": [],
   "source": [
    "gwtg_hf_score['GWTG_HF_Score_Final']=(gwtg_hf_score['Age_Score']+gwtg_hf_score['Black_Race_Score']\n",
    "                                      +gwtg_hf_score['COPD_Score']+gwtg_hf_score['Heart_Rate_Score']\n",
    "                                     +gwtg_hf_score['Sodium_Score']+gwtg_hf_score['BUN_Score']+\n",
    "                                     gwtg_hf_score['Systolic_BP_Score'])\n",
    "gwtg_hf_score['GWTG_HF_Score_Final'].value_counts()"
   ]
  },
  {
   "cell_type": "code",
   "execution_count": null,
   "metadata": {},
   "outputs": [],
   "source": [
    "gwtg_hf_score['GWTG_HF_Score_Category']=np.where(gwtg_hf_score['GWTG_HF_Score_Final']<=33,'<1%',\n",
    "                                                np.where(gwtg_hf_score['GWTG_HF_Score_Final']<=50,'1-5%',\n",
    "                                                        np.where(gwtg_hf_score['GWTG_HF_Score_Final']<=57,'>5-10%',\n",
    "                                                                np.where(gwtg_hf_score['GWTG_HF_Score_Final']<=61,'>10-15%',\n",
    "                                                                        np.where(gwtg_hf_score['GWTG_HF_Score_Final']<=65,'>15-20%',\n",
    "                                                                                np.where(gwtg_hf_score['GWTG_HF_Score_Final']<=70,'>20-30%',\n",
    "                                                                                        np.where(gwtg_hf_score['GWTG_HF_Score_Final']<=74,'>30-40%',\n",
    "                                                                                                np.where(gwtg_hf_score['GWTG_HF_Score_Final']<=78,'>40-50%',\n",
    "                                                                                                        np.where(gwtg_hf_score['GWTG_HF_Score_Final']>=79,'>50%','Not Available')))))))))\n",
    "gwtg_hf_score['GWTG_HF_Score_Category'].value_counts()"
   ]
  },
  {
   "cell_type": "code",
   "execution_count": null,
   "metadata": {},
   "outputs": [],
   "source": [
    "final_score=gwtg_hf_score[['HospitalAdmissionTime','ef_low','ExpiredStatus','ef_category','GWTG_HF_Score_Final',]]\n",
    "final_score.to_csv(\"gwtg_hf_score.csv\", index=False)"
   ]
  }
 ],
 "metadata": {
  "kernelspec": {
   "display_name": "myenv",
   "language": "python",
   "name": "myenv"
  },
  "language_info": {
   "codemirror_mode": {
    "name": "ipython",
    "version": 3
   },
   "file_extension": ".py",
   "mimetype": "text/x-python",
   "name": "python",
   "nbconvert_exporter": "python",
   "pygments_lexer": "ipython3",
   "version": "3.8.2"
  }
 },
 "nbformat": 4,
 "nbformat_minor": 2
}
